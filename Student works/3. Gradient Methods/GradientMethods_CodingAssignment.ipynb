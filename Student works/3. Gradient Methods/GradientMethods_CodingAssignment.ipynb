{
 "cells": [
  {
   "cell_type": "markdown",
   "id": "d36ddeea-2981-45a4-91ed-2a27dc6f1734",
   "metadata": {},
   "source": [
    "# Coding Assignment \"Gradient Methods\""
   ]
  },
  {
   "cell_type": "markdown",
   "id": "eaf89ff1-2e35-4dcb-ac09-85bee08afde2",
   "metadata": {},
   "source": [
    "## 1. Preparation"
   ]
  },
  {
   "cell_type": "code",
   "execution_count": 1,
   "id": "48825306-2884-4883-bcaa-ef9232d2a8e0",
   "metadata": {},
   "outputs": [],
   "source": [
    "import numpy as np \n",
    "import pandas as pd \n",
    "from datetime import datetime\n",
    "import matplotlib.pyplot as plt \n",
    "from sklearn.linear_model import Ridge\n",
    "from sklearn.metrics import mean_squared_error\n",
    "from numpy import linalg as LA"
   ]
  },
  {
   "cell_type": "markdown",
   "id": "4e995572-5300-4c58-bf1f-9de6b3376e83",
   "metadata": {},
   "source": [
    "## 2. Data"
   ]
  },
  {
   "cell_type": "markdown",
   "id": "d8ad8489-e1c9-4506-9382-5a1805f6576b",
   "metadata": {},
   "source": [
    "### 2.1 Dataset"
   ]
  },
  {
   "cell_type": "code",
   "execution_count": 2,
   "id": "aeb8bd8c-f9cf-45e5-9a9b-75f9ef1c8894",
   "metadata": {
    "tags": []
   },
   "outputs": [
    {
     "name": "stdout",
     "output_type": "stream",
     "text": [
      "First data point:\n",
      "Latitude                        69.04277\n",
      "Longitude                       20.85091\n",
      "Timestamp            2023-12-31 18:00:00\n",
      "temp                               -16.5\n",
      "name         Enontekiö Kilpisjärvi Saana\n",
      "Name: 0, dtype: object\n",
      "\n",
      "******************************\n",
      "\n",
      "Another data point:\n",
      "Latitude                     69.757\n",
      "Longitude                    27.012\n",
      "Timestamp       2023-12-31 13:00:00\n",
      "temp                          -26.3\n",
      "name         Utsjoki Kevo Kevojärvi\n",
      "Name: 13, dtype: object\n",
      "\n",
      "******************************\n",
      "\n",
      "Unnormalized features of the first data point: \n",
      "Latitude: 69.04277\n",
      "Longitude: 20.85091\n",
      "Year: 2023.0\n",
      "Month: 12.0\n",
      "Day: 31.0\n",
      "Hour: 18.0\n",
      "Minute: 0.0\n",
      "\n",
      "******************************\n",
      "\n",
      "Label of first data point: -16.5\n"
     ]
    }
   ],
   "source": [
    "# Import the weather measurements.\n",
    "data = pd.read_csv('Assignment_MLBasicsData.csv')\n",
    "\n",
    "# We consider each temperature measurement (=a row in dataframe data) \n",
    "# as a separate data point.\n",
    "# Determine the total number of data points stored in csv file.\n",
    "nrdatapoints = len(data)\n",
    "\n",
    "# Print out the first data point (first row).\n",
    "print(\"First data point:\")\n",
    "print(data.iloc[0])\n",
    "print(\"\\n******************************\\n\")\n",
    "\n",
    "# Here is another data point. \n",
    "print(\"Another data point:\")\n",
    "print(data.iloc[13])\n",
    "print(\"\\n******************************\\n\")\n",
    "\n",
    "# We use normalized values of \n",
    "# latitude, longitude, year, mon, day, hour, minute (as float values) \n",
    "# as features of a data point.\n",
    "nrfeatures = 7 \n",
    "\n",
    "# The code snippet below extracts the features of the first data point (first row in dataframe data).\n",
    "date_object = datetime.strptime(data['Timestamp'].iloc[0], '%Y-%m-%d %H:%M:%S')\n",
    "\n",
    "# Extract individual components.\n",
    "latitude = data[\"Latitude\"].iloc[0]\n",
    "longitude = data[\"Longitude\"].iloc[0]\n",
    "year = float(date_object.year)\n",
    "month = float(date_object.month)\n",
    "day = float(date_object.day)\n",
    "hour = float(date_object.hour)\n",
    "minute = float(date_object.minute)\n",
    "\n",
    "print(\"Unnormalized features of the first data point: \")\n",
    "print(f\"Latitude: {latitude}\")\n",
    "print(f\"Longitude: {longitude}\")\n",
    "print(f\"Year: {year}\")\n",
    "print(f\"Month: {month}\")\n",
    "print(f\"Day: {day}\")\n",
    "print(f\"Hour: {hour}\")\n",
    "print(f\"Minute: {minute}\")\n",
    "print(\"\\n******************************\\n\")\n",
    "\n",
    "# We choose the temperature as the label (quantity of interest) of a data point.\n",
    "print(\"Label of first data point:\", data[\"temp\"].iloc[0])"
   ]
  },
  {
   "cell_type": "markdown",
   "id": "64a91255-b609-41a8-b0c7-ce924097f29c",
   "metadata": {},
   "source": [
    "### 2.2 Features and labels"
   ]
  },
  {
   "cell_type": "code",
   "execution_count": 3,
   "id": "b89aa18b-bc5f-4d0e-b595-e9f31fa025bc",
   "metadata": {
    "tags": []
   },
   "outputs": [
    {
     "name": "stdout",
     "output_type": "stream",
     "text": [
      "The created feature matrix contains 19768 entries of 7 features each.\n",
      "The created label vector contains 19768 measurements.\n"
     ]
    }
   ],
   "source": [
    "# We next build the feature matrix X (each of its rows hold the features of a data point) \n",
    "# and the label vector y (whose entries hold the labels of data points).\n",
    "X = np.zeros((nrdatapoints, nrfeatures))\n",
    "y = np.zeros((nrdatapoints, 1))\n",
    "\n",
    "# Iterate over all rows in dataframe and create corresponding feature vector and label. \n",
    "for ind in data.index:\n",
    "    # Latitude of FMI station, normalized by 100. \n",
    "    lat = float(data['Latitude'].iloc[ind]) / 100\n",
    "    \n",
    "    # Longitude of FMI station, normalized by 100.\n",
    "    lon = float(data['Longitude'].iloc[ind]) / 100\n",
    "    \n",
    "    # Exctract the temperature value.\n",
    "    tmp = data['temp'].iloc[ind]\n",
    "    \n",
    "    # Read the date and time of the temperature measurement.\n",
    "    date_object = datetime.strptime(data['Timestamp'].iloc[ind], '%Y-%m-%d %H:%M:%S')\n",
    "\n",
    "    # Extract year, month, day, hour, minute, and second. \n",
    "    # Normalize these values to ensure features are in range [0,1].\n",
    "    year = float(date_object.year) / 2025\n",
    "    month = float(date_object.month) / 13\n",
    "    day = float(date_object.day) / 32\n",
    "    hour = float(date_object.hour) / 25\n",
    "    minute = float(date_object.minute) / 61\n",
    "    \n",
    "    # Store the data point's features and a label.\n",
    "    X[ind,:] = [lat, lon, year, month, day, hour, minute]\n",
    "    y[ind,:] = tmp\n",
    "\n",
    "print(f\"The created feature matrix contains {np.shape(X)[0]} entries of {np.shape(X)[1]} features each.\")\n",
    "print(f\"The created label vector contains {np.shape(y)[0]} measurements.\")"
   ]
  },
  {
   "cell_type": "markdown",
   "id": "efdf0e8e-d54a-4f67-9c2c-d5f8eb680233",
   "metadata": {},
   "source": [
    "### 2.3 Training and validation sets"
   ]
  },
  {
   "cell_type": "code",
   "execution_count": 4,
   "id": "f8a18f4b-2583-4619-a54a-4b7ce3357790",
   "metadata": {
    "tags": []
   },
   "outputs": [
    {
     "name": "stdout",
     "output_type": "stream",
     "text": [
      "The training set consists of 100 data points.\n",
      "The validation set consists of 19668 data points.\n"
     ]
    }
   ],
   "source": [
    "# Define the number of data points used for training set.\n",
    "trainsize = 100\n",
    "\n",
    "# Split the dataset into training and validation set. \n",
    "Xtrain = X[:trainsize,:] \n",
    "Xval = X[trainsize:] \n",
    "ytrain = y[:trainsize] \n",
    "yval = y[trainsize:] \n",
    "\n",
    "print(f\"The training set consists of {np.shape(Xtrain)[0]} data points.\")\n",
    "print(f\"The validation set consists of {np.shape(Xval)[0]} data points.\")"
   ]
  },
  {
   "cell_type": "markdown",
   "id": "a1d0d122-a3f9-414a-872b-7add6b8b43e7",
   "metadata": {},
   "source": [
    "## 3. Model"
   ]
  },
  {
   "cell_type": "markdown",
   "id": "1cc39c05-5fd4-4dc1-bde2-fb119de77baf",
   "metadata": {},
   "source": [
    "### 3.1 Ridge regression - Ready made implementation via Scikit-learn class"
   ]
  },
  {
   "cell_type": "code",
   "execution_count": 5,
   "id": "1d9bf864-f349-4d41-80ff-b5818f7c2f73",
   "metadata": {},
   "outputs": [
    {
     "name": "stdout",
     "output_type": "stream",
     "text": [
      "********** Ridge Regression Diagnosis **********\n",
      "Training error:  34.48452921511405\n",
      "Validation error:  41.373355414751856\n"
     ]
    }
   ],
   "source": [
    "# Define the regularization parameter.\n",
    "regparam = 0.01\n",
    "\n",
    "# Create a ridge regression using scikit-learn class.\n",
    "ridge = Ridge(alpha=(trainsize*regparam), fit_intercept=False )\n",
    "\n",
    "# Train the linear model, i.e., \n",
    "# solve the ERM to obtain parameters of the linear model.\n",
    "ridge.fit(Xtrain, ytrain)\n",
    "Etrain = mean_squared_error(ytrain, ridge.predict(Xtrain))\n",
    "Eval = mean_squared_error(yval, ridge.predict(Xval))\n",
    "\n",
    "print(\"********** Ridge Regression Diagnosis **********\")\n",
    "print(\"Training error: \", Etrain)\n",
    "print(\"Validation error: \", Eval)"
   ]
  },
  {
   "cell_type": "markdown",
   "id": "925a9cc0-962d-4e9d-b621-be173c0579a1",
   "metadata": {},
   "source": [
    "### 3.2 Student task #1 - Ridge regression by gradient descent"
   ]
  },
  {
   "cell_type": "code",
   "execution_count": 6,
   "id": "e24502ee-58a6-4404-8512-b0eba2a52047",
   "metadata": {
    "tags": []
   },
   "outputs": [
    {
     "name": "stdout",
     "output_type": "stream",
     "text": [
      "7\n",
      "Xtrain shape is: (100, 7)\n",
      "ytrain shape is: (100, 1)\n",
      "w shape is: (7, 1)\n",
      "Training error (GD): 32.335494337352685\n",
      "Validation error (GD): 39.0289899545525\n"
     ]
    }
   ],
   "source": [
    "# Define the initial parameters.\n",
    "N_iters = 1000 # The number of gradient steps.\n",
    "lrate = 0.1 # Learning rate\n",
    "\n",
    "####################TODO####################\n",
    "# TODO: Implement the GD Algorithm 2 for the objective function (2.27). Use\n",
    "#       the initialization w^{0} = 0. \n",
    "#       Use the resulting parameters (delivered by Algorithm 2) to compute the \n",
    "#       average squared error loss on the training set (= training error E_t) \n",
    "#       and the average squared error loss on the validation set (=validation error E_v)\n",
    "\n",
    "# raise NotImplementedError\n",
    "regparam = 0.01\n",
    "\n",
    "# Initialize weights\n",
    "w = np.zeros((nrfeatures, 1))\n",
    "\n",
    "print(nrfeatures)\n",
    "m = trainsize # 100\n",
    "# lambda_param = m * regparam\n",
    "# Gradient Descent\n",
    "\n",
    "print(f\"Xtrain shape is: {Xtrain.shape}\")\n",
    "print(f\"ytrain shape is: {ytrain.shape}\")\n",
    "print(f\"w shape is: {w.shape}\")\n",
    "\n",
    "for k in range(N_iters):\n",
    "    grad_fw = np.zeros((nrfeatures, 1))\n",
    "    for r in range(m):\n",
    "        x_r = Xtrain[r, :].reshape(-1, 1) # shape (7, 1)\n",
    "        # print(x_r.shape)\n",
    "        y_r = ytrain[r].item() # scalar\n",
    "        grad_fw += x_r * (y_r - w.T @ x_r) + regparam * x_r\n",
    "    grad_fw = - (2/m) * grad_fw\n",
    "    w = w - lrate * grad_fw\n",
    "\n",
    "# Calculate errors\n",
    "Etrain_GD = mean_squared_error(ytrain, Xtrain @ w)\n",
    "Eval_GD = mean_squared_error(yval, Xval @ w)\n",
    "\n",
    "print(\"Training error (GD):\", Etrain_GD)\n",
    "print(\"Validation error (GD):\", Eval_GD)"
   ]
  },
  {
   "cell_type": "markdown",
   "id": "afd6dfb1-99b7-4e4a-b41e-aabbd5ca3cae",
   "metadata": {},
   "source": [
    "### 3.3 Student task #2 - The optimal learning rate"
   ]
  },
  {
   "cell_type": "code",
   "execution_count": 25,
   "id": "16188f63-4cfb-4cbe-9ace-d95d182a2297",
   "metadata": {
    "tags": []
   },
   "outputs": [
    {
     "ename": "KeyboardInterrupt",
     "evalue": "",
     "output_type": "error",
     "traceback": [
      "\u001b[1;31m---------------------------------------------------------------------------\u001b[0m",
      "\u001b[1;31mKeyboardInterrupt\u001b[0m                         Traceback (most recent call last)",
      "Cell \u001b[1;32mIn[25], line 69\u001b[0m\n\u001b[0;32m     64\u001b[0m Eval_GD_list \u001b[38;5;241m=\u001b[39m []\n\u001b[0;32m     66\u001b[0m \u001b[38;5;28;01mfor\u001b[39;00m lrate \u001b[38;5;129;01min\u001b[39;00m lrates:\n\u001b[0;32m     67\u001b[0m     \n\u001b[0;32m     68\u001b[0m     \u001b[38;5;66;03m# Run gradient descent\u001b[39;00m\n\u001b[1;32m---> 69\u001b[0m     w_converge, k_converge \u001b[38;5;241m=\u001b[39m \u001b[43mgradient_descent\u001b[49m\u001b[43m(\u001b[49m\u001b[43mXtrain\u001b[49m\u001b[43m,\u001b[49m\u001b[43m \u001b[49m\u001b[43mytrain\u001b[49m\u001b[43m,\u001b[49m\u001b[43m \u001b[49m\u001b[43mlrate\u001b[49m\u001b[43m,\u001b[49m\u001b[43m \u001b[49m\u001b[43mregparam\u001b[49m\u001b[43m,\u001b[49m\u001b[43m \u001b[49m\u001b[43mtolerance\u001b[49m\u001b[43m)\u001b[49m\n\u001b[0;32m     70\u001b[0m     iterations_until_convergence\u001b[38;5;241m.\u001b[39mappend(k_converge)\n\u001b[0;32m     72\u001b[0m     Etrain_GD_list\u001b[38;5;241m.\u001b[39mappend(mean_squared_error(ytrain, Xtrain \u001b[38;5;241m@\u001b[39m w_converge))\n",
      "Cell \u001b[1;32mIn[25], line 54\u001b[0m, in \u001b[0;36mgradient_descent\u001b[1;34m(X, y, lrate, regparam, tolerance)\u001b[0m\n\u001b[0;32m     52\u001b[0m \u001b[38;5;66;03m#print(f\"Objective value: {objective_value}\")\u001b[39;00m\n\u001b[0;32m     53\u001b[0m w \u001b[38;5;241m=\u001b[39m w \u001b[38;5;241m-\u001b[39m lrate \u001b[38;5;241m*\u001b[39m grad_fw\n\u001b[1;32m---> 54\u001b[0m objective_value_new \u001b[38;5;241m=\u001b[39m \u001b[43mobjective_function\u001b[49m\u001b[43m(\u001b[49m\u001b[43mX\u001b[49m\u001b[43m,\u001b[49m\u001b[43m \u001b[49m\u001b[43my\u001b[49m\u001b[43m,\u001b[49m\u001b[43m \u001b[49m\u001b[43mw\u001b[49m\u001b[43m)\u001b[49m\n\u001b[0;32m     55\u001b[0m \u001b[38;5;66;03m#print(f\"Objective value new: {objective_value_new}\")\u001b[39;00m\n\u001b[0;32m     56\u001b[0m k \u001b[38;5;241m+\u001b[39m\u001b[38;5;241m=\u001b[39m \u001b[38;5;241m1\u001b[39m\n",
      "Cell \u001b[1;32mIn[25], line 23\u001b[0m, in \u001b[0;36mobjective_function\u001b[1;34m(X, y, w)\u001b[0m\n\u001b[0;32m     21\u001b[0m objective_value \u001b[38;5;241m=\u001b[39m \u001b[38;5;241m0\u001b[39m\n\u001b[0;32m     22\u001b[0m \u001b[38;5;28;01mfor\u001b[39;00m r \u001b[38;5;129;01min\u001b[39;00m \u001b[38;5;28mrange\u001b[39m(m):\n\u001b[1;32m---> 23\u001b[0m     x_r \u001b[38;5;241m=\u001b[39m \u001b[43mX\u001b[49m\u001b[43m[\u001b[49m\u001b[43mr\u001b[49m\u001b[43m,\u001b[49m\u001b[43m \u001b[49m\u001b[43m:\u001b[49m\u001b[43m]\u001b[49m\u001b[38;5;241;43m.\u001b[39;49m\u001b[43mreshape\u001b[49m\u001b[43m(\u001b[49m\u001b[38;5;241;43m-\u001b[39;49m\u001b[38;5;241;43m1\u001b[39;49m\u001b[43m,\u001b[49m\u001b[43m \u001b[49m\u001b[38;5;241;43m1\u001b[39;49m\u001b[43m)\u001b[49m \u001b[38;5;66;03m# shape (7, 1)\u001b[39;00m\n\u001b[0;32m     24\u001b[0m     \u001b[38;5;66;03m# print(x_r.shape)\u001b[39;00m\n\u001b[0;32m     25\u001b[0m     y_r \u001b[38;5;241m=\u001b[39m y[r]\u001b[38;5;241m.\u001b[39mitem() \u001b[38;5;66;03m# scalar\u001b[39;00m\n",
      "\u001b[1;31mKeyboardInterrupt\u001b[0m: "
     ]
    }
   ],
   "source": [
    "# You only have to try out the following values for the learning rate: \n",
    "lrates = np.linspace(0.28, 0.32, 20) # Learning rate\n",
    "# lrates = np.linspace(0.314, 0.32, 20) \n",
    "####################TODO####################\n",
    "# TODO: Modify the implemented GD Algorithm 2 \n",
    "#       to find the optimal learning rate value, \n",
    "#       such that the objective value converges to the optimum \n",
    "#       with the minimum number of gradient steps. \n",
    "# NOTE: Monitor the decrease in the objective function \n",
    "#       and compare it with the chosen tolerance as a stopping criterion.\n",
    "# HINT: The tolerance in the solution notebook was chosen 1e-10.\n",
    "\n",
    "# raise NotImplementedError\n",
    "\n",
    "N_iters_upper = 2000 # Upper limit on the number of iterations\n",
    "tolerance = 1e-10 # Tolerance for convergence\n",
    "regparam = 0.01\n",
    "\n",
    "m = trainsize # 100\n",
    "def objective_function(X, y, w):\n",
    "    objective_value = 0\n",
    "    for r in range(m):\n",
    "        x_r = X[r, :].reshape(-1, 1) # shape (7, 1)\n",
    "        # print(x_r.shape)\n",
    "        y_r = y[r].item() # scalar\n",
    "        objective_value += (y_r - w.T @ x_r) ** 2 \n",
    "    objective_value = (1/m) * objective_value + regparam * LA.norm(w) ** 2\n",
    "    return objective_value\n",
    "\n",
    "# def objective_function(X, y, w):\n",
    "#     trainingLoss = mean_squared_error(y, X @ w)\n",
    "#     return trainingLoss\n",
    "\n",
    "def compute_grad(X, y, w, regparam):\n",
    "    grad_fw = np.zeros((nrfeatures, 1))\n",
    "    for r in range(m):\n",
    "        x_r = X[r, :].reshape(-1, 1) # shape (7, 1)\n",
    "        # print(x_r.shape)\n",
    "        y_r = y[r].item() # scalar\n",
    "        grad_fw += x_r * (y_r - w.T @ x_r) + regparam * x_r\n",
    "    grad_fw = - (2/m) * grad_fw\n",
    "    return grad_fw\n",
    "\n",
    "def gradient_descent(X, y, lrate, regparam, tolerance):\n",
    "    w = np.zeros((nrfeatures, 1))\n",
    "    objective_value = objective_function(X, y, w)\n",
    "    objective_value_new = np.inf\n",
    "    k = 0\n",
    "    while abs(objective_value_new - objective_value) >= tolerance:\n",
    "        grad_fw = compute_grad(X, y, w, regparam)\n",
    "        objective_value = objective_function(X, y, w)\n",
    "        #print(f\"Objective value: {objective_value}\")\n",
    "        w = w - lrate * grad_fw\n",
    "        objective_value_new = objective_function(X, y, w)\n",
    "        #print(f\"Objective value new: {objective_value_new}\")\n",
    "        k += 1\n",
    "    return w, k\n",
    "\n",
    "# Corresponding list to store the number of iterations required to converge to the optimum\n",
    "# for each learning rate, including its training and validation error\n",
    "\n",
    "iterations_until_convergence = []\n",
    "Etrain_GD_list = []\n",
    "Eval_GD_list = []\n",
    "\n",
    "for lrate in lrates:\n",
    "    \n",
    "    # Run gradient descent\n",
    "    w_converge, k_converge = gradient_descent(Xtrain, ytrain, lrate, regparam, tolerance)\n",
    "    iterations_until_convergence.append(k_converge)\n",
    "\n",
    "    Etrain_GD_list.append(mean_squared_error(ytrain, Xtrain @ w_converge))\n",
    "    Eval_GD_list.append(mean_squared_error(yval, Xval @ w_converge))\n",
    "\n",
    "    print(f\"lrate: {lrate}, Converging k: {k_converge}, Etrain: {round(Etrain_GD_list[-1], 2)}, Eval: {round(Eval_GD_list[-1], 2)}\")\n",
    "\n",
    "# Plot the training and validation error as a function of the learning rate.\n",
    "    \n",
    "plt.plot(lrates, Etrain_GD_list, label='Training error')\n",
    "plt.plot(lrates, Eval_GD_list, label='Validation error')\n",
    "\n"
   ]
  },
  {
   "cell_type": "code",
   "execution_count": 8,
   "id": "7e227dd6",
   "metadata": {},
   "outputs": [
    {
     "data": {
      "text/plain": [
       "[<matplotlib.lines.Line2D at 0x1b04cedc500>]"
      ]
     },
     "execution_count": 8,
     "metadata": {},
     "output_type": "execute_result"
    },
    {
     "data": {
      "image/png": "[encoded data removed]",
      "text/plain": [
       "<Figure size 640x480 with 1 Axes>"
      ]
     },
     "metadata": {},
     "output_type": "display_data"
    }
   ],
   "source": [
    "# Plot learning rates vs iterations until convergence\n",
    "\n",
    "plt.plot(lrates, iterations_until_convergence, label='Iterations until convergence')"
   ]
  },
  {
   "cell_type": "code",
   "execution_count": 9,
   "id": "11637650",
   "metadata": {},
   "outputs": [],
   "source": [
    "# Q1: For each learning rate in the given list, the number of iterations is larger than 2000?\n",
    "check = [i > 2000 for i in iterations_until_convergence]\n",
    "\n",
    "# Q2: For each learning rate in the given list, the number of iterations is smaller than 2000?\n"
   ]
  }
 ],
 "metadata": {
  "kernelspec": {
   "display_name": "Python 3 (ipykernel)",
   "language": "python",
   "name": "python3"
  },
  "language_info": {
   "codemirror_mode": {
    "name": "ipython",
    "version": 3
   },
   "file_extension": ".py",
   "mimetype": "text/x-python",
   "name": "python",
   "nbconvert_exporter": "python",
   "pygments_lexer": "ipython3",
   "version": "3.12.2"
  }
 },
 "nbformat": 4,
 "nbformat_minor": 5
}
